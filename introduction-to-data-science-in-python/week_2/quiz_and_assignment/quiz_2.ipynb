{
 "cells": [
  {
   "cell_type": "markdown",
   "metadata": {},
   "source": [
    "# 1"
   ]
  },
  {
   "cell_type": "code",
   "execution_count": null,
   "metadata": {},
   "outputs": [],
   "source": [
    "import pandas as pd\n",
    "sdata = {'Ohio': 35000, 'Texas': 71000, 'Oregon': 16000, 'Utah': 5000}\n",
    "obj1 = pd.Series(sdata)\n",
    "states = ['California', 'Ohio', 'Oregon', 'Texas']\n",
    "obj2 = pd.Series(sdata, index=states)\n",
    "obj3 = pd.isnull(obj2)"
   ]
  },
  {
   "cell_type": "code",
   "execution_count": null,
   "metadata": {},
   "outputs": [],
   "source": [
    "obj2['California'] == None"
   ]
  },
  {
   "cell_type": "code",
   "execution_count": null,
   "metadata": {},
   "outputs": [],
   "source": [
    "obj3['California']"
   ]
  },
  {
   "cell_type": "code",
   "execution_count": null,
   "metadata": {},
   "outputs": [],
   "source": [
    "x = obj2['California']\n",
    "obj2['California'] != x"
   ]
  },
  {
   "cell_type": "code",
   "execution_count": null,
   "metadata": {},
   "outputs": [],
   "source": [
    "import math\n",
    "math.isnan(obj2['California'])"
   ]
  },
  {
   "cell_type": "markdown",
   "metadata": {},
   "source": [
    "# 2"
   ]
  },
  {
   "cell_type": "code",
   "execution_count": null,
   "metadata": {},
   "outputs": [],
   "source": [
    "import pandas as pd\n",
    "d = {'1': 'Alice','2': 'Bob','3': 'Rita','4': 'Molly','5': 'Ryan'}\n",
    "S = pd.Series(d)"
   ]
  },
  {
   "cell_type": "code",
   "execution_count": null,
   "metadata": {},
   "outputs": [],
   "source": [
    "\n",
    "S.iloc[0:3]"
   ]
  },
  {
   "cell_type": "markdown",
   "metadata": {},
   "source": [
    "# 3"
   ]
  },
  {
   "cell_type": "code",
   "execution_count": null,
   "metadata": {},
   "outputs": [],
   "source": [
    "# Students dictionary.\n",
    "students = [\n",
    "\t{ 'Name': 'Alice',\n",
    "    'Class': 'Physics',\n",
    "    'Score': 85 },\n",
    "  { 'Name': 'Jack',\n",
    "    'Class': 'Chemistry',\n",
    "    'Score': 82 },\n",
    "  { 'Name': 'Helen',\n",
    "    'Class': 'Biology',\n",
    "    'Score': 90 }\n",
    "]\n",
    "\n",
    "# Students data frame.\n",
    "df = pd.DataFrame(students)\n",
    "\n",
    "# Print.\n",
    "df.head()"
   ]
  },
  {
   "cell_type": "code",
   "execution_count": null,
   "metadata": {},
   "outputs": [],
   "source": [
    "# df.rename(mapper = lambda x: x.upper(), axis = 1, inplace = True)\n",
    "# df.head()\n",
    "\n",
    "# df = df.rename(mapper = lambda x: x.upper(), axis = 'columns')\n",
    "# df.head()\n",
    "\n",
    "df.rename(mapper = lambda x: x.upper(), axis = 1)\n",
    "df.head()\n",
    "\n",
    "# df = df.rename(mapper = lambda x: x.upper(), axis = 1)\n",
    "# df.head()"
   ]
  },
  {
   "cell_type": "markdown",
   "metadata": {},
   "source": [
    "# 4"
   ]
  },
  {
   "cell_type": "code",
   "execution_count": null,
   "metadata": {},
   "outputs": [],
   "source": [
    "scores = [\n",
    "\t{\t\"Serial No.\": 1,\n",
    "\t\t\"gre score\": 337,\n",
    "\t\t\"toefl score\": 118, },\n",
    "\t{\t\"Serial No.\": 2,\n",
    "\t\t\"gre score\": 324,\n",
    "\t\t\"toefl score\": 107, },\n",
    "\t{\t\"Serial No.\": 3,\n",
    "\t\t\"gre score\": 316,\n",
    "\t\t\"toefl score\": 104, },\n",
    "\t{\t\"Serial No.\": 4,\n",
    "\t\t\"gre score\": 322,\n",
    "\t\t\"toefl score\": 110, },\n",
    "\t{\t\"Serial No.\": 5,\n",
    "\t\t\"gre score\": 314,\n",
    "\t\t\"toefl score\": 103, }\n",
    "]\n",
    "\n",
    "df = pd.DataFrame(scores)\n",
    "\n",
    "df.head()"
   ]
  },
  {
   "cell_type": "code",
   "execution_count": null,
   "metadata": {},
   "outputs": [],
   "source": [
    "df.where(df['toefl score'] > 105)"
   ]
  },
  {
   "cell_type": "code",
   "execution_count": null,
   "metadata": {},
   "outputs": [],
   "source": [
    "df.where(df['toefl score'] > 105).dropna()"
   ]
  },
  {
   "cell_type": "code",
   "execution_count": null,
   "metadata": {},
   "outputs": [],
   "source": [
    "df[df['toefl score'] > 105]"
   ]
  },
  {
   "cell_type": "markdown",
   "metadata": {},
   "source": [
    "# 5"
   ]
  },
  {
   "cell_type": "code",
   "execution_count": null,
   "metadata": {},
   "outputs": [],
   "source": []
  },
  {
   "cell_type": "markdown",
   "metadata": {},
   "source": [
    "# 6"
   ]
  },
  {
   "cell_type": "code",
   "execution_count": null,
   "metadata": {},
   "outputs": [],
   "source": [
    "states = [\n",
    "\t{\t\"State\": \"Ohio\",\n",
    "\t\t\"one\": 0,\n",
    "\t\t\"two\": 1,\n",
    "\t\t\"three\": 2,\n",
    "\t\t\"four\": 3, },\n",
    "\t{\t\"State\": \"Colorado\",\n",
    "\t\t\"one\": 4,\n",
    "\t\t\"two\": 5,\n",
    "\t\t\"three\": 6,\n",
    "\t\t\"four\": 7, },\n",
    "\t{\t\"State\": \"Utah\",\n",
    "\t\t\"one\": 8,\n",
    "\t\t\"two\": 9,\n",
    "\t\t\"three\": 10,\n",
    "\t\t\"four\": 11, },\n",
    "\t{\t\"State\": \"New York\",\n",
    "\t\t\"one\": 12,\n",
    "\t\t\"two\": 13,\n",
    "\t\t\"three\": 14,\n",
    "\t\t\"four\": 15, },\n",
    "]\n",
    "\n",
    "df = pd.DataFrame(states)\n",
    "\n",
    "df.head()"
   ]
  },
  {
   "cell_type": "code",
   "execution_count": null,
   "metadata": {},
   "outputs": [],
   "source": [
    "df.drop(\"one\", axis = 1)\n",
    "\n",
    "df.head()"
   ]
  },
  {
   "cell_type": "markdown",
   "metadata": {},
   "source": [
    "# 7"
   ]
  },
  {
   "cell_type": "code",
   "execution_count": null,
   "metadata": {},
   "outputs": [],
   "source": [
    "import pandas as pd\n",
    "s1 = pd.Series({1: 'Alice', 2: 'Jack', 3: 'Molly'})\n",
    "s2 = pd.Series({'Alice': 1, 'Jack': 2, 'Molly': 3})\n",
    "\n",
    "s1.head()\n"
   ]
  },
  {
   "cell_type": "code",
   "execution_count": null,
   "metadata": {},
   "outputs": [],
   "source": [
    "s2.head()"
   ]
  },
  {
   "cell_type": "code",
   "execution_count": null,
   "metadata": {},
   "outputs": [],
   "source": [
    "s2.loc[1]"
   ]
  },
  {
   "cell_type": "markdown",
   "metadata": {},
   "source": [
    "# 8"
   ]
  },
  {
   "cell_type": "code",
   "execution_count": null,
   "metadata": {},
   "outputs": [],
   "source": [
    "(df['toefl score'] > 105) & (df['toefl score'] < 115)"
   ]
  },
  {
   "cell_type": "markdown",
   "metadata": {},
   "source": [
    "# 9"
   ]
  },
  {
   "cell_type": "code",
   "execution_count": null,
   "metadata": {},
   "outputs": [],
   "source": []
  },
  {
   "cell_type": "markdown",
   "metadata": {},
   "source": [
    "# 10"
   ]
  },
  {
   "cell_type": "code",
   "execution_count": null,
   "metadata": {},
   "outputs": [],
   "source": []
  }
 ],
 "metadata": {
  "kernelspec": {
   "display_name": "venv",
   "language": "python",
   "name": "python3"
  },
  "language_info": {
   "codemirror_mode": {
    "name": "ipython",
    "version": 3
   },
   "file_extension": ".py",
   "mimetype": "text/x-python",
   "name": "python",
   "nbconvert_exporter": "python",
   "pygments_lexer": "ipython3",
   "version": "3.11.5"
  }
 },
 "nbformat": 4,
 "nbformat_minor": 2
}
