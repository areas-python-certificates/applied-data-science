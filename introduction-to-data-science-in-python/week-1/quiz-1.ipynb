{
 "cells": [
  {
   "cell_type": "code",
   "execution_count": 1,
   "metadata": {},
   "outputs": [
    {
     "name": "stdout",
     "output_type": "stream",
     "text": [
      "['bat', 'bot']\n"
     ]
    }
   ],
   "source": [
    "import re\n",
    "string = \"bat, lat, mat, bet, let, met, bit, lit, mit, bot, lot, mot\"\n",
    "result = re.findall(\"b[ao]t\", string)\n",
    "print(result)"
   ]
  },
  {
   "cell_type": "code",
   "execution_count": 2,
   "metadata": {},
   "outputs": [
    {
     "name": "stdout",
     "output_type": "stream",
     "text": [
      "821.3342803024844\n",
      "821.3342803024844\n",
      "821.3342803024844\n",
      "16114.753240431577\n"
     ]
    }
   ],
   "source": [
    "import numpy as np\n",
    "\n",
    "def l2_dist(a, b):\n",
    "\tresult = ((a - b) * (a - b)).sum()\n",
    "\tresult = result ** 0.5\n",
    "\treturn result\n",
    "\n",
    "a = np.random.randint(0, 100, (20, 20))\n",
    "b = np.random.randint(0, 100, (20, 20))\n",
    "\n",
    "print( l2_dist(a, b) )\n",
    "print( l2_dist(np.reshape(a, (20 * 20)), np.reshape(b, (20 * 20))) )\n",
    "print( l2_dist(a.T, b.T) )\n",
    "print( l2_dist(np.reshape(a, (20 * 20)), np.reshape(b, (20 * 20, 1))) )"
   ]
  },
  {
   "cell_type": "code",
   "execution_count": 3,
   "metadata": {},
   "outputs": [
    {
     "name": "stdout",
     "output_type": "stream",
     "text": [
      "a1: [0.93656845 0.67003376 0.85948841 0.62140475]\n",
      "a2: [[0.72680502]\n",
      " [0.23424399]\n",
      " [0.89246454]\n",
      " [0.96301516]]\n",
      "a3: [[1 2 3 4]]\n",
      "a4: [1 2 3]\n",
      "a5: [1. 2. 3. 4.]\n",
      "True\n",
      "False\n",
      "False\n"
     ]
    }
   ],
   "source": [
    "a1 = np.random.rand(4)\n",
    "a2 = np.random.rand(4, 1)\n",
    "a3 = np.array([[1, 2, 3, 4]])\n",
    "a4 = np.arange(1, 4, 1)\n",
    "a5 = np.linspace(1 ,4, 4)\n",
    "\n",
    "print(\"a1:\", a1)\n",
    "print(\"a2:\", a2)\n",
    "print(\"a3:\", a3)\n",
    "print(\"a4:\", a4)\n",
    "print(\"a5:\", a5)\n",
    "\n",
    "print( a5.shape == a1.shape )\n",
    "print( a3.shape == a4.shape )\n",
    "print( a1.shape == a2.shape )\n",
    "# print( a4.ndim() == 1 )"
   ]
  },
  {
   "cell_type": "code",
   "execution_count": 4,
   "metadata": {},
   "outputs": [
    {
     "name": "stdout",
     "output_type": "stream",
     "text": [
      "[[0 0 1]\n",
      " [1 1 1]]\n"
     ]
    }
   ],
   "source": [
    "import numpy as np\n",
    "\n",
    "old = np.array([[1, 1, 1], [1, 1, 1]])\n",
    "new = old\n",
    "new[0, :2] = 0\n",
    "\n",
    "print(old)"
   ]
  },
  {
   "cell_type": "code",
   "execution_count": 5,
   "metadata": {},
   "outputs": [
    {
     "name": "stdout",
     "output_type": "stream",
     "text": [
      "['AC', 'AC']\n",
      "['BC']\n",
      "['AC']\n",
      "['A']\n"
     ]
    }
   ],
   "source": [
    "import re \n",
    "\n",
    "s = \"ACBCAC\"\n",
    "\n",
    "print( re.findall(\"AC\", s) )\n",
    "print( re.findall(\"[^A]C\", s) )\n",
    "print( re.findall(\"^AC\", s) )\n",
    "print( re.findall(\"^[AC]\", s) )"
   ]
  },
  {
   "cell_type": "code",
   "execution_count": 6,
   "metadata": {},
   "outputs": [
    {
     "name": "stdout",
     "output_type": "stream",
     "text": [
      "5\n"
     ]
    }
   ],
   "source": [
    "import re\n",
    "s = \"ACAABAACAAAB\"\n",
    "result = re.findall(\"A{1,2}\", s)\n",
    "L = len(result)\n",
    "print(L)"
   ]
  },
  {
   "cell_type": "code",
   "execution_count": 7,
   "metadata": {},
   "outputs": [
    {
     "name": "stdout",
     "output_type": "stream",
     "text": [
      "['(734) 647-6333', '(734) 647-8044', '(734) 763-2285', '(734) 647-3576', '(734) 763-1251', '(734) 764-9376']\n",
      "[]\n",
      "[]\n",
      "[]\n"
     ]
    }
   ],
   "source": [
    "string = \"\"\"\n",
    "Office of Research Administration: (734) 647-6333 | 4325 North Quad\n",
    "Office of Budget and Financial Administration: (734) 647-8044 | 309 Maynard, Suite 205\n",
    "Health Informatics Program: (734) 763-2285 | 333 Maynard, Suite 500\n",
    "Office of the Dean: (734) 647-3576 | 4322 North Quad\n",
    "UMSI Engagement Center: (734) 763-1251 | 777 North University\n",
    "Faculty Adminstrative Support Staff: (734) 764-9376 | 4322 North Quad\n",
    "\"\"\"\n",
    "print( re.findall(\"[(]\\d{3}[)]\\s\\d{3}[-]\\d{4}\", string) )\n",
    "print( re.findall(\"\\d{3}\\s\\d{3}[-]\\d{4}\", string) )\n",
    "print( re.findall(\"[(]\\d{3}[)]\\d{3}[-]\\d{4}\", string) )\n",
    "print( re.findall(\"\\d{3}[-]\\d{3}[-]\\d{4}\", string) )"
   ]
  },
  {
   "cell_type": "code",
   "execution_count": 8,
   "metadata": {},
   "outputs": [
    {
     "name": "stdout",
     "output_type": "stream",
     "text": [
      "['google.com', 'www.baidu.com']\n"
     ]
    }
   ],
   "source": [
    "string = \"I refer to https://google.com and I never refer http://www.baidu.com if I have to search anything\"\n",
    "\n",
    "print( re.findall(\"(?<=[https]:\\/\\/)([A-Za-z0-9.]*)\", string) )"
   ]
  },
  {
   "cell_type": "code",
   "execution_count": 9,
   "metadata": {},
   "outputs": [
    {
     "name": "stdout",
     "output_type": "stream",
     "text": [
      "4\n"
     ]
    }
   ],
   "source": [
    "import re\n",
    "\n",
    "text=r\"\"\"Everyone has the following fundamental freedoms:\n",
    "    (a) freedom of conscience and religion;\n",
    "    (b) freedom of thought, belief, opinion and expression, including freedom of the press and other media of communication;\n",
    "    (c) freedom of peaceful assembly; and\n",
    "    (d) freedom of association.\"\"\"\n",
    "\n",
    "pattern = \"\\(.\\)\"\n",
    "print(len(re.findall(pattern,text)))"
   ]
  }
 ],
 "metadata": {
  "kernelspec": {
   "display_name": "base",
   "language": "python",
   "name": "python3"
  },
  "language_info": {
   "codemirror_mode": {
    "name": "ipython",
    "version": 3
   },
   "file_extension": ".py",
   "mimetype": "text/x-python",
   "name": "python",
   "nbconvert_exporter": "python",
   "pygments_lexer": "ipython3",
   "version": "3.11.5"
  },
  "orig_nbformat": 4
 },
 "nbformat": 4,
 "nbformat_minor": 2
}
