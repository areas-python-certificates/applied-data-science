{
 "cells": [
  {
   "cell_type": "code",
   "execution_count": 3,
   "metadata": {},
   "outputs": [
    {
     "name": "stdout",
     "output_type": "stream",
     "text": [
      "['bat', 'bot']\n"
     ]
    }
   ],
   "source": [
    "import re\n",
    "string = \"bat, lat, mat, bet, let, met, bit, lit, mit, bot, lot, mot\"\n",
    "result = re.findall(\"b[ao]t\", string)\n",
    "print(result)"
   ]
  },
  {
   "cell_type": "code",
   "execution_count": 4,
   "metadata": {},
   "outputs": [
    {
     "ename": "ModuleNotFoundError",
     "evalue": "No module named 'numpy'",
     "output_type": "error",
     "traceback": [
      "\u001b[0;31m---------------------------------------------------------------------------\u001b[0m",
      "\u001b[0;31mModuleNotFoundError\u001b[0m                       Traceback (most recent call last)",
      "Cell \u001b[0;32mIn[4], line 1\u001b[0m\n\u001b[0;32m----> 1\u001b[0m \u001b[38;5;28;01mimport\u001b[39;00m \u001b[38;5;21;01mnumpy\u001b[39;00m \u001b[38;5;28;01mas\u001b[39;00m \u001b[38;5;21;01mnp\u001b[39;00m\n\u001b[1;32m      3\u001b[0m \u001b[38;5;28;01mdef\u001b[39;00m \u001b[38;5;21ml2_dist\u001b[39m(a, b):\n\u001b[1;32m      4\u001b[0m \tresult \u001b[38;5;241m=\u001b[39m ((a \u001b[38;5;241m-\u001b[39m b) \u001b[38;5;241m*\u001b[39m (a \u001b[38;5;241m-\u001b[39m b))\u001b[38;5;241m.\u001b[39msum()\n",
      "\u001b[0;31mModuleNotFoundError\u001b[0m: No module named 'numpy'"
     ]
    }
   ],
   "source": [
    "import numpy as np\n",
    "\n",
    "def l2_dist(a, b):\n",
    "\tresult = ((a - b) * (a - b)).sum()\n",
    "\tresult = result ** 0.5\n",
    "\treturn result\n",
    "\n",
    "a = np.random.randint(0, 100, (20, 20))\n",
    "b = np.random.randint(0, 100, (20, 20))\n",
    "\n",
    "print( l2_dist(a, b) )\n",
    "print( l2_dist(np.reshape(a, (20 * 20)), np.reshape(b, (20 * 20))) )\n",
    "print( l2_dist(a.T, b.T) )\n",
    "print( l2_dist(np.reshape(a, (20 * 20)), np.reshape(b, (20 * 20, 1))) )"
   ]
  },
  {
   "cell_type": "code",
   "execution_count": null,
   "metadata": {},
   "outputs": [],
   "source": [
    "a1 = np.random.rand(4)\n",
    "a2 = np.random.rand(4, 1)\n",
    "a3 = np.array([[1, 2, 3, 4]])\n",
    "a4 = np.arange(1, 4, 1)\n",
    "a5 = np.linspace(1 ,4, 4)\n",
    "\n",
    "print(\"a1:\", a1)\n",
    "print(\"a2:\", a2)\n",
    "print(\"a3:\", a3)\n",
    "print(\"a4:\", a4)\n",
    "print(\"a5:\", a5)\n",
    "\n",
    "print( a5.shape == a1.shape )\n",
    "print( a3.shape == a4.shape )\n",
    "print( a1.shape == a2.shape )\n",
    "# print( a4.ndim() == 1 )"
   ]
  },
  {
   "cell_type": "code",
   "execution_count": null,
   "metadata": {},
   "outputs": [],
   "source": [
    "import numpy as np\n",
    "\n",
    "old = np.array([[1, 1, 1], [1, 1, 1]])\n",
    "new = old\n",
    "new[0, :2] = 0\n",
    "\n",
    "print(old)"
   ]
  },
  {
   "cell_type": "code",
   "execution_count": null,
   "metadata": {},
   "outputs": [],
   "source": [
    "import re \n",
    "\n",
    "s = \"ACBCAC\"\n",
    "\n",
    "print( re.findall(\"AC\", s) )\n",
    "print( re.findall(\"[^A]C\", s) )\n",
    "print( re.findall(\"^AC\", s) )\n",
    "print( re.findall(\"^[AC]\", s) )"
   ]
  },
  {
   "cell_type": "code",
   "execution_count": null,
   "metadata": {},
   "outputs": [],
   "source": [
    "import re\n",
    "s = \"ACAABAACAAAB\"\n",
    "result = re.findall(\"A{1,2}\", s)\n",
    "L = len(result)\n",
    "print(L)"
   ]
  },
  {
   "cell_type": "code",
   "execution_count": null,
   "metadata": {},
   "outputs": [],
   "source": [
    "string = \"\"\"\n",
    "Office of Research Administration: (734) 647-6333 | 4325 North Quad\n",
    "Office of Budget and Financial Administration: (734) 647-8044 | 309 Maynard, Suite 205\n",
    "Health Informatics Program: (734) 763-2285 | 333 Maynard, Suite 500\n",
    "Office of the Dean: (734) 647-3576 | 4322 North Quad\n",
    "UMSI Engagement Center: (734) 763-1251 | 777 North University\n",
    "Faculty Adminstrative Support Staff: (734) 764-9376 | 4322 North Quad\n",
    "\"\"\"\n",
    "print( re.findall(\"[(]\\d{3}[)]\\s\\d{3}[-]\\d{4}\", string) )\n",
    "print( re.findall(\"\\d{3}\\s\\d{3}[-]\\d{4}\", string) )\n",
    "print( re.findall(\"[(]\\d{3}[)]\\d{3}[-]\\d{4}\", string) )\n",
    "print( re.findall(\"\\d{3}[-]\\d{3}[-]\\d{4}\", string) )"
   ]
  },
  {
   "cell_type": "code",
   "execution_count": null,
   "metadata": {},
   "outputs": [],
   "source": [
    "string = \"I refer to https://google.com and I never refer http://www.baidu.com if I have to search anything\"\n",
    "\n",
    "print( re.findall(\"(?<=[https]:\\/\\/)([A-Za-z0-9.]*)\", string) )"
   ]
  },
  {
   "cell_type": "code",
   "execution_count": null,
   "metadata": {},
   "outputs": [],
   "source": [
    "import re\n",
    "\n",
    "text=r\"\"\"Everyone has the following fundamental freedoms:\n",
    "    (a) freedom of conscience and religion;\n",
    "    (b) freedom of thought, belief, opinion and expression, including freedom of the press and other media of communication;\n",
    "    (c) freedom of peaceful assembly; and\n",
    "    (d) freedom of association.\"\"\"\n",
    "\n",
    "pattern = \"\\(.\\)\"\n",
    "print(len(re.findall(pattern,text)))"
   ]
  }
 ],
 "metadata": {
  "kernelspec": {
   "display_name": "base",
   "language": "python",
   "name": "python3"
  },
  "language_info": {
   "codemirror_mode": {
    "name": "ipython",
    "version": 3
   },
   "file_extension": ".py",
   "mimetype": "text/x-python",
   "name": "python",
   "nbconvert_exporter": "python",
   "pygments_lexer": "ipython3",
   "version": "3.9.6"
  },
  "orig_nbformat": 4
 },
 "nbformat": 4,
 "nbformat_minor": 2
}
