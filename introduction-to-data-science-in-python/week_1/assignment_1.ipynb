{
 "cells": [
  {
   "attachments": {},
   "cell_type": "markdown",
   "metadata": {
    "deletable": false,
    "editable": false,
    "etc_identifier": "242a3605-5bda-4e1f-beef-04a0173d3f41",
    "nbgrader": {
     "cell_type": "markdown",
     "checksum": "56ded12c208a4e3c8f6e0d50ef6227fa",
     "grade": false,
     "grade_id": "cell-fa48e7f1b94baa5b",
     "locked": true,
     "schema_version": 3,
     "solution": false
    }
   },
   "source": [
    "# Assignment 1\n",
    "\n",
    "For this assignment you are welcomed to use other regex resources such a regex \"cheat sheets\" you find on the web."
   ]
  },
  {
   "attachments": {},
   "cell_type": "markdown",
   "metadata": {
    "deletable": false,
    "editable": false,
    "nbgrader": {
     "cell_type": "markdown",
     "checksum": "d17f561e3c6c08092810b982d085f5be",
     "grade": false,
     "grade_id": "cell-d4da7eb9acee2a6d",
     "locked": true,
     "schema_version": 3,
     "solution": false
    }
   },
   "source": [
    "Before you start working on the problems, here is a small example to help you understand how to write your own answers. In short, the solution should be written within the function body given, and the final result should be returned. Then the autograder will try to call the function and validate your returned result accordingly. "
   ]
  },
  {
   "cell_type": "code",
   "execution_count": null,
   "metadata": {
    "deletable": false,
    "editable": false,
    "nbgrader": {
     "cell_type": "code",
     "checksum": "7eeb5e7d0f0e0137caed9f3b5cb925b1",
     "grade": false,
     "grade_id": "cell-4a96535829224b3f",
     "locked": true,
     "schema_version": 3,
     "solution": false
    }
   },
   "outputs": [],
   "source": [
    "def example_word_count():\n",
    "\t# This example question requires counting words in the example_string below.\n",
    "\texample_string = \"Amy is 5 years old\"\n",
    "\n",
    "\t# YOUR CODE HERE.\n",
    "\t# You should write your solution here, and return your result, you can comment out or delete the\n",
    "\t# NotImplementedError below.\n",
    "\tresult = example_string.split(\" \")\n",
    "\treturn len(result)\n",
    "\n",
    "\t#raise NotImplementedError()"
   ]
  },
  {
   "attachments": {},
   "cell_type": "markdown",
   "metadata": {},
   "source": [
    "## Part A\n",
    "\n",
    "Find a list of all of the names in the following string using regex."
   ]
  },
  {
   "cell_type": "code",
   "execution_count": null,
   "metadata": {
    "deletable": false,
    "nbgrader": {
     "cell_type": "code",
     "checksum": "29bc8c161c0e246c1e3ef4820cc164f7",
     "grade": false,
     "grade_id": "names",
     "locked": false,
     "schema_version": 3,
     "solution": true
    }
   },
   "outputs": [],
   "source": [
    "# Dependencies.\n",
    "import re\n",
    "\n",
    "# Get names from a string.\n",
    "def get_names():\n",
    "\tsimple_string = \"\"\"\n",
    "\t\tAmy is 5 years old, and her sister Mary is 2 years old. \n",
    "\t\tRuth and Peter, their parents, have 3 kids.\n",
    "\t\"\"\"\n",
    "\n",
    "\treturn re.findall(\"[A-Z]\\w*\", simple_string)\n",
    "\n",
    "get_names()"
   ]
  },
  {
   "cell_type": "code",
   "execution_count": null,
   "metadata": {
    "deletable": false,
    "editable": false,
    "nbgrader": {
     "cell_type": "code",
     "checksum": "ed5c09ac57f7d98130d5abc557f6d6c4",
     "grade": true,
     "grade_id": "correct_names",
     "locked": false,
     "points": 1,
     "schema_version": 3,
     "solution": false
    }
   },
   "outputs": [],
   "source": [
    "assert len(get_names()) == 4, \"There are four names in the simple_string\"\n"
   ]
  },
  {
   "attachments": {},
   "cell_type": "markdown",
   "metadata": {
    "deletable": false,
    "editable": false,
    "nbgrader": {
     "cell_type": "markdown",
     "checksum": "22f18c5538beb4d2661bcbae651c6458",
     "grade": false,
     "grade_id": "cell-ed64e3464ddd7ba7",
     "locked": true,
     "schema_version": 3,
     "solution": false
    }
   },
   "source": [
    "## Part B\n",
    "\n",
    "The dataset file in [assets/grades.txt](assets/grades.txt) contains a line separated list of people with their grade in a class. Create a regex to generate a list of just those students who received a B in the course."
   ]
  },
  {
   "cell_type": "code",
   "execution_count": null,
   "metadata": {
    "deletable": false,
    "nbgrader": {
     "cell_type": "code",
     "checksum": "e977a1df674e9fa684e6d172aec92824",
     "grade": false,
     "grade_id": "grades",
     "locked": false,
     "schema_version": 3,
     "solution": true
    }
   },
   "outputs": [],
   "source": [
    "# Dependencies.\n",
    "import re\n",
    "\n",
    "# Get grades.\n",
    "def get_grades():\n",
    "\twith open (\"assets/grades.txt\", \"r\") as file:\n",
    "\t\tgrades = file.read()\n",
    "\t\tb_grades = re.findall(\"^(.*): B\\s*$\", grades, re.MULTILINE)\n",
    "\t\treturn b_grades\n",
    "\n",
    "print(get_grades())\n",
    "print(len(get_grades()))"
   ]
  },
  {
   "cell_type": "code",
   "execution_count": null,
   "metadata": {},
   "outputs": [],
   "source": []
  },
  {
   "cell_type": "code",
   "execution_count": null,
   "metadata": {
    "deletable": false,
    "editable": false,
    "nbgrader": {
     "cell_type": "code",
     "checksum": "e0bcc452d60fc45259e58d3116d25477",
     "grade": true,
     "grade_id": "correct_grades",
     "locked": false,
     "points": 1,
     "schema_version": 3,
     "solution": false
    }
   },
   "outputs": [],
   "source": [
    "assert len(get_grades()) == 16"
   ]
  },
  {
   "attachments": {},
   "cell_type": "markdown",
   "metadata": {
    "deletable": false,
    "editable": false,
    "nbgrader": {
     "cell_type": "markdown",
     "checksum": "4609d4ee034af5059e666df2740bdeb2",
     "grade": false,
     "grade_id": "cell-e253518e37d33f0c",
     "locked": true,
     "schema_version": 3,
     "solution": false
    }
   },
   "source": [
    "## Part C\n",
    "\n",
    "Consider the standard web log file in [assets/logdata.txt](assets/logdata.txt). This file records the access a user makes when visiting a web page (like this one!). Each line of the log has the following items:\n",
    "\n",
    "* a host (e.g., '146.204.224.152') \n",
    "* a user_name (e.g., 'feest6811' **note: sometimes the user name is missing! In this case, use '-' as the value for the username.**)\n",
    "* the time a request was made (e.g., '21/Jun/2019:15:45:24 -0700')\n",
    "* the post request type (e.g., 'POST /incentivize HTTP/1.1' **note: not everything is a POST!**)\n",
    "\n",
    "Your task is to convert this into a list of dictionaries, where each dictionary looks like the following:\n",
    "```\n",
    "example_dict = {\n",
    "\t\"host\":\"146.204.224.152\", \n",
    "\t\"user_name\":\"feest6811\", \n",
    "\t\"time\":\"21/Jun/2019:15:45:24 -0700\",\n",
    "\t\"request\":\"POST /incentivize HTTP/1.1\"\n",
    "}\n",
    "```"
   ]
  },
  {
   "cell_type": "code",
   "execution_count": null,
   "metadata": {
    "deletable": false,
    "nbgrader": {
     "cell_type": "code",
     "checksum": "c04017e59e48b2f4c77bf425ed84b356",
     "grade": false,
     "grade_id": "logs",
     "locked": false,
     "schema_version": 3,
     "solution": true
    }
   },
   "outputs": [],
   "source": [
    "# Dependencies.\n",
    "import re\n",
    "\n",
    "# Convert logs into a list of dictionaries.\n",
    "def convert_logs():\n",
    "\t# Create an empty list.\n",
    "\tlogs = list()\n",
    "\twith open(\"assets/log-data.txt\", \"r\") as file:\n",
    "\t\tfor line in file:\n",
    "\t\t\t# Create an empty dictionary.\n",
    "\t\t\tlog = dict()\n",
    "\t\t\t# Get the host, user_name, time, and request.\n",
    "\t\t\thost = re.findall(\"\\d+\\.\\d+\\.\\d+\\.\\d+\", line)\n",
    "\t\t\tuser_name = re.findall(\" - (.*?) \", line)\n",
    "\t\t\ttime = re.findall(\" \\[(.*?)\\] \", line)\n",
    "\t\t\trequest = re.findall(\" \\\"(.*?)\\\"\", line)\n",
    "\t\t\t# Add values to the dictionary.\n",
    "\t\t\tlog[\"host\"] = host[0]\n",
    "\t\t\tlog[\"user_name\"] = user_name[0]\n",
    "\t\t\tlog[\"time\"] = time[0]\n",
    "\t\t\tlog[\"request\"] = request[0]\n",
    "\t\t\t# Append the dictionary to the list.\n",
    "\t\t\tlogs.append(log)\n",
    "\treturn logs\n",
    "\n",
    "print(convert_logs())\n",
    "print(len(convert_logs()))"
   ]
  },
  {
   "cell_type": "code",
   "execution_count": null,
   "metadata": {
    "deletable": false,
    "editable": false,
    "nbgrader": {
     "cell_type": "code",
     "checksum": "1fd5f2cca190d37c667fb189352540d3",
     "grade": true,
     "grade_id": "cell-correct_logs",
     "locked": true,
     "points": 1,
     "schema_version": 3,
     "solution": false
    }
   },
   "outputs": [],
   "source": [
    "assert len(convert_logs()) == 979\n",
    "\n",
    "one_item={'host': '146.204.224.152',\n",
    "  'user_name': 'feest6811',\n",
    "  'time': '21/Jun/2019:15:45:24 -0700',\n",
    "  'request': 'POST /incentivize HTTP/1.1'}\n",
    "assert one_item in convert_logs(), \"Sorry, this item should be in the log results, check your formating\"\n"
   ]
  }
 ],
 "metadata": {
  "coursera": {
   "schema_names": [
    "mooc_adswpy_v1_assignment1"
   ]
  },
  "kernelspec": {
   "display_name": "Python 3 (ipykernel)",
   "language": "python",
   "name": "python3"
  },
  "language_info": {
   "codemirror_mode": {
    "name": "ipython",
    "version": 3
   },
   "file_extension": ".py",
   "mimetype": "text/x-python",
   "name": "python",
   "nbconvert_exporter": "python",
   "pygments_lexer": "ipython3",
   "version": "3.11.5"
  }
 },
 "nbformat": 4,
 "nbformat_minor": 4
}
